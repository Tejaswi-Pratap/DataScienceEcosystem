{
 "cells": [
  {
   "cell_type": "markdown",
   "id": "492bac95-48d1-4113-940d-efbaa236227b",
   "metadata": {},
   "source": [
    "# Data Science Tools and Ecosystem"
   ]
  },
  {
   "cell_type": "markdown",
   "id": "c7c6d2ca-929b-4d92-a57f-36f70aec249f",
   "metadata": {},
   "source": [
    "In this notebook, Data Science Tools and Ecosystem are summarized."
   ]
  },
  {
   "cell_type": "markdown",
   "id": "bd4b5fe6-892f-40fb-9492-1394335bc103",
   "metadata": {},
   "source": [
    "Some of the popular languages that Data Scientists use are:\n",
    "1. Python\n",
    "2. R\n",
    "3. SQL"
   ]
  },
  {
   "cell_type": "markdown",
   "id": "b6823947-6780-44b5-b1a0-a424a5ad453d",
   "metadata": {},
   "source": [
    "Some of the commonly used libraries used by Data Scientists include:\n",
    "1. Pandas\n",
    "2. Numpy\n",
    "3. Seaborn\n",
    "4. Matplotlib"
   ]
  },
  {
   "cell_type": "markdown",
   "id": "14b61d74-1521-4e50-be4a-8d6e99a72eac",
   "metadata": {},
   "source": [
    "| Data Science Tools | \r\n",
    "|:--------:|\r\n",
    "|Apache Spark 1    |\r\n",
    "Tensorflow 2     |\r",
    "Cassendraw 3    |"
   ]
  },
  {
   "cell_type": "markdown",
   "id": "882d893d-de85-4b56-8553-71fab4330259",
   "metadata": {},
   "source": [
    "### Below are a few examples of evaluating arithmetic expressions in Python."
   ]
  },
  {
   "cell_type": "code",
   "execution_count": 2,
   "id": "bde843dc-afee-4eef-8b94-91514aecb77a",
   "metadata": {},
   "outputs": [
    {
     "data": {
      "text/plain": [
       "17.0"
      ]
     },
     "execution_count": 2,
     "metadata": {},
     "output_type": "execute_result"
    }
   ],
   "source": [
    " # This a simple arithmetic expression to mutiply then add integers.\n",
    "(3*4)+5."
   ]
  },
  {
   "cell_type": "code",
   "execution_count": 3,
   "id": "b9ba2b05-c269-40f5-b010-2335a73b0363",
   "metadata": {},
   "outputs": [
    {
     "data": {
      "text/plain": [
       "3.3333333333333335"
      ]
     },
     "execution_count": 3,
     "metadata": {},
     "output_type": "execute_result"
    }
   ],
   "source": [
    "# 200 minutes into hours.\n",
    "200/60"
   ]
  },
  {
   "cell_type": "markdown",
   "id": "23fa842a-8751-4bec-a4e3-1e4f479cf155",
   "metadata": {},
   "source": [
    "**Objectives**\n",
    "- MySql\n",
    "- R\n",
    "- Python"
   ]
  },
  {
   "cell_type": "markdown",
   "id": "eba72e81-f2b8-45a0-9e88-7fbff63e3119",
   "metadata": {},
   "source": [
    "## Author"
   ]
  },
  {
   "cell_type": "markdown",
   "id": "54f9da9f-b4e1-43a8-b632-c52d04274943",
   "metadata": {},
   "source": [
    "Tejaswi Pratap"
   ]
  },
  {
   "cell_type": "code",
   "execution_count": null,
   "id": "4af56317-b6e0-4238-9e45-a745e643f24f",
   "metadata": {},
   "outputs": [],
   "source": []
  }
 ],
 "metadata": {
  "kernelspec": {
   "display_name": "Python 3 (ipykernel)",
   "language": "python",
   "name": "python3"
  },
  "language_info": {
   "codemirror_mode": {
    "name": "ipython",
    "version": 3
   },
   "file_extension": ".py",
   "mimetype": "text/x-python",
   "name": "python",
   "nbconvert_exporter": "python",
   "pygments_lexer": "ipython3",
   "version": "3.11.7"
  }
 },
 "nbformat": 4,
 "nbformat_minor": 5
}
